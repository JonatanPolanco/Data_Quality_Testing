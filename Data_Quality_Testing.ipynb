{
  "nbformat": 4,
  "nbformat_minor": 0,
  "metadata": {
    "colab": {
      "provenance": [],
      "authorship_tag": "ABX9TyPWcXGmCRbAh6f6yi5/m/WI",
      "include_colab_link": true
    },
    "kernelspec": {
      "name": "python3",
      "display_name": "Python 3"
    },
    "language_info": {
      "name": "python"
    }
  },
  "cells": [
    {
      "cell_type": "markdown",
      "metadata": {
        "id": "view-in-github",
        "colab_type": "text"
      },
      "source": [
        "<a href=\"https://colab.research.google.com/github/JonatanPolanco/Data_Quality_Testing/blob/main/Data_Quality_Testing.ipynb\" target=\"_parent\"><img src=\"https://colab.research.google.com/assets/colab-badge.svg\" alt=\"Open In Colab\"/></a>"
      ]
    },
    {
      "cell_type": "code",
      "execution_count": 31,
      "metadata": {
        "colab": {
          "base_uri": "https://localhost:8080/"
        },
        "id": "C6nBgCSGJMep",
        "outputId": "356b9831-761c-4fd3-c49e-f86d6f3c69b0"
      },
      "outputs": [
        {
          "output_type": "stream",
          "name": "stdout",
          "text": [
            "Looking in indexes: https://pypi.org/simple, https://us-python.pkg.dev/colab-wheels/public/simple/\n",
            "Requirement already satisfied: pydeequ==1.0.1 in /usr/local/lib/python3.8/dist-packages (1.0.1)\n",
            "Requirement already satisfied: numpy>=1.14.1 in /usr/local/lib/python3.8/dist-packages (from pydeequ==1.0.1) (1.21.6)\n",
            "Requirement already satisfied: pandas>=0.23.0 in /usr/local/lib/python3.8/dist-packages (from pydeequ==1.0.1) (1.3.5)\n",
            "Requirement already satisfied: pytz>=2017.3 in /usr/local/lib/python3.8/dist-packages (from pandas>=0.23.0->pydeequ==1.0.1) (2022.7)\n",
            "Requirement already satisfied: python-dateutil>=2.7.3 in /usr/local/lib/python3.8/dist-packages (from pandas>=0.23.0->pydeequ==1.0.1) (2.8.2)\n",
            "Requirement already satisfied: six>=1.5 in /usr/local/lib/python3.8/dist-packages (from python-dateutil>=2.7.3->pandas>=0.23.0->pydeequ==1.0.1) (1.15.0)\n"
          ]
        }
      ],
      "source": [
        "!pip install --target=$nb_path pydeequ==1.0.1         ##Solo correr una vez"
      ]
    },
    {
      "cell_type": "code",
      "source": [
        "!pip install --target=$nb_path pyspark==3.0.3         ##Solo correr una vez"
      ],
      "metadata": {
        "colab": {
          "base_uri": "https://localhost:8080/"
        },
        "id": "KDQ-eq-sV5UE",
        "outputId": "ce074b50-646a-4467-8015-4a2305100e4d"
      },
      "execution_count": 32,
      "outputs": [
        {
          "output_type": "stream",
          "name": "stdout",
          "text": [
            "Looking in indexes: https://pypi.org/simple, https://us-python.pkg.dev/colab-wheels/public/simple/\n",
            "Requirement already satisfied: pyspark==3.0.3 in /usr/local/lib/python3.8/dist-packages (3.0.3)\n",
            "Requirement already satisfied: py4j==0.10.9 in /usr/local/lib/python3.8/dist-packages (from pyspark==3.0.3) (0.10.9)\n"
          ]
        }
      ]
    },
    {
      "cell_type": "code",
      "source": [
        "pip install qvd"
      ],
      "metadata": {
        "colab": {
          "base_uri": "https://localhost:8080/"
        },
        "id": "HhWUZRqSWJhL",
        "outputId": "dd59aa36-4394-4d0c-f281-24a00a8e122e"
      },
      "execution_count": 33,
      "outputs": [
        {
          "output_type": "stream",
          "name": "stdout",
          "text": [
            "Looking in indexes: https://pypi.org/simple, https://us-python.pkg.dev/colab-wheels/public/simple/\n",
            "Requirement already satisfied: qvd in /usr/local/lib/python3.8/dist-packages (0.0.14)\n",
            "Requirement already satisfied: pandas>=1.1.4 in /usr/local/lib/python3.8/dist-packages (from qvd) (1.3.5)\n",
            "Requirement already satisfied: pytz>=2017.3 in /usr/local/lib/python3.8/dist-packages (from pandas>=1.1.4->qvd) (2022.7)\n",
            "Requirement already satisfied: python-dateutil>=2.7.3 in /usr/local/lib/python3.8/dist-packages (from pandas>=1.1.4->qvd) (2.8.2)\n",
            "Requirement already satisfied: numpy>=1.17.3 in /usr/local/lib/python3.8/dist-packages (from pandas>=1.1.4->qvd) (1.21.6)\n",
            "Requirement already satisfied: six>=1.5 in /usr/local/lib/python3.8/dist-packages (from python-dateutil>=2.7.3->pandas>=1.1.4->qvd) (1.15.0)\n"
          ]
        }
      ]
    },
    {
      "cell_type": "code",
      "source": [
        "from pyspark.sql import SparkSession, Row\n",
        "import pydeequ\n",
        "import pandas as pd\n",
        "import re\n",
        "from qvd import qvd_reader\n",
        "from pyspark.sql.types import IntegerType\n",
        "from pydeequ.checks import *\n",
        "from pydeequ.verification import *\n",
        "import numpy as np"
      ],
      "metadata": {
        "id": "4RWHIaPRVVgC"
      },
      "execution_count": 34,
      "outputs": []
    },
    {
      "cell_type": "code",
      "source": [
        "spark = (SparkSession\n",
        "    .builder\n",
        "    .appName(\"Example\") \\\n",
        "    .config(\"spark.jars.packages\", pydeequ.deequ_maven_coord)\n",
        "    .config(\"spark.jars.excludes\", pydeequ.f2j_maven_coord)\n",
        "    .config(\"spark.driver.memory\", \"16g\")\\\n",
        "    .config(\"spark.executor.memory\", \"4g\") \\\n",
        "    .getOrCreate())\n",
        "check = Check(spark, CheckLevel.Warning, \"Review Check\")"
      ],
      "metadata": {
        "id": "aIA3ffshWNJg"
      },
      "execution_count": 35,
      "outputs": []
    },
    {
      "cell_type": "code",
      "source": [
        "df_param = pd.read_excel(\"Parametros.xlsx\",sheet_name=\"Validaciones\")\n",
        "df_Person_Person = pd.read_csv('dbo_Person_Person.csv')\n",
        "df_address = pd.read_csv('dbo_Address.csv')"
      ],
      "metadata": {
        "id": "y2tNYvkmbTqY"
      },
      "execution_count": 36,
      "outputs": []
    },
    {
      "cell_type": "code",
      "source": [
        "df_param_ = df_param.loc[df_param['Tipo Validacion'] == 'Formato']\n",
        "tablas = df_param_.drop_duplicates(subset=['Esquema', 'Tabla'])\n",
        "tablas = np.array(tablas[\"Esquema\"]+\"_\"+tablas[\"Tabla\"])\n",
        "tablas_campo = df_param_[\"Esquema\"]+\"_\"+df_param_[\"Tabla\"]+\".\"+df_param_[\"Campo\"]\n",
        "df_param_[\"Valores\"]=df_param_[\"Valores\"].replace(\"TipoDato\", \"hasDataType\")\n",
        "df_param_[\"Valores\"]=df_param_[\"Valores\"].replace(\"MinLength\", \"hasMinLength\")\n",
        "df_param_[\"Valores\"]=df_param_[\"Valores\"].replace(\"MaxLength\", \"hasMaxLength\")\n",
        "df_param_[\"Valores\"]=df_param_[\"Valores\"].replace(\"Email\", \"containsEmail\")\n",
        "df_param_[\"Valores\"]=df_param_[\"Valores\"].replace(\"MaxNumRegistros\", \"hasSize\")\n",
        "df_param_[\"Valores\"]=df_param_[\"Valores\"].replace(\"CreditCardNumber\", \"containsCreditCardNumber\")\n",
        "df_param_[\"Valores\"]=df_param_[\"Valores\"].replace(\"URL\", \"containsURL\")\n",
        "df_param_[\"Valores\"]=df_param_[\"Valores\"].replace(\"SocialSecurityNumber\", \"containsSocialSecurityNumber\")"
      ],
      "metadata": {
        "colab": {
          "base_uri": "https://localhost:8080/"
        },
        "id": "N5_GxneiycCU",
        "outputId": "47b15b5a-c650-4627-d0c6-711ca375a157"
      },
      "execution_count": 37,
      "outputs": [
        {
          "output_type": "stream",
          "name": "stderr",
          "text": [
            "<ipython-input-37-836ec9f8d57e>:5: SettingWithCopyWarning: \n",
            "A value is trying to be set on a copy of a slice from a DataFrame.\n",
            "Try using .loc[row_indexer,col_indexer] = value instead\n",
            "\n",
            "See the caveats in the documentation: https://pandas.pydata.org/pandas-docs/stable/user_guide/indexing.html#returning-a-view-versus-a-copy\n",
            "  df_param_[\"Valores\"]=df_param_[\"Valores\"].replace(\"TipoDato\", \"hasDataType\")\n",
            "<ipython-input-37-836ec9f8d57e>:6: SettingWithCopyWarning: \n",
            "A value is trying to be set on a copy of a slice from a DataFrame.\n",
            "Try using .loc[row_indexer,col_indexer] = value instead\n",
            "\n",
            "See the caveats in the documentation: https://pandas.pydata.org/pandas-docs/stable/user_guide/indexing.html#returning-a-view-versus-a-copy\n",
            "  df_param_[\"Valores\"]=df_param_[\"Valores\"].replace(\"MinLength\", \"hasMinLength\")\n",
            "<ipython-input-37-836ec9f8d57e>:7: SettingWithCopyWarning: \n",
            "A value is trying to be set on a copy of a slice from a DataFrame.\n",
            "Try using .loc[row_indexer,col_indexer] = value instead\n",
            "\n",
            "See the caveats in the documentation: https://pandas.pydata.org/pandas-docs/stable/user_guide/indexing.html#returning-a-view-versus-a-copy\n",
            "  df_param_[\"Valores\"]=df_param_[\"Valores\"].replace(\"MaxLength\", \"hasMaxLength\")\n",
            "<ipython-input-37-836ec9f8d57e>:8: SettingWithCopyWarning: \n",
            "A value is trying to be set on a copy of a slice from a DataFrame.\n",
            "Try using .loc[row_indexer,col_indexer] = value instead\n",
            "\n",
            "See the caveats in the documentation: https://pandas.pydata.org/pandas-docs/stable/user_guide/indexing.html#returning-a-view-versus-a-copy\n",
            "  df_param_[\"Valores\"]=df_param_[\"Valores\"].replace(\"Email\", \"containsEmail\")\n",
            "<ipython-input-37-836ec9f8d57e>:9: SettingWithCopyWarning: \n",
            "A value is trying to be set on a copy of a slice from a DataFrame.\n",
            "Try using .loc[row_indexer,col_indexer] = value instead\n",
            "\n",
            "See the caveats in the documentation: https://pandas.pydata.org/pandas-docs/stable/user_guide/indexing.html#returning-a-view-versus-a-copy\n",
            "  df_param_[\"Valores\"]=df_param_[\"Valores\"].replace(\"MaxNumRegistros\", \"hasSize\")\n",
            "<ipython-input-37-836ec9f8d57e>:10: SettingWithCopyWarning: \n",
            "A value is trying to be set on a copy of a slice from a DataFrame.\n",
            "Try using .loc[row_indexer,col_indexer] = value instead\n",
            "\n",
            "See the caveats in the documentation: https://pandas.pydata.org/pandas-docs/stable/user_guide/indexing.html#returning-a-view-versus-a-copy\n",
            "  df_param_[\"Valores\"]=df_param_[\"Valores\"].replace(\"CreditCardNumber\", \"containsCreditCardNumber\")\n",
            "<ipython-input-37-836ec9f8d57e>:11: SettingWithCopyWarning: \n",
            "A value is trying to be set on a copy of a slice from a DataFrame.\n",
            "Try using .loc[row_indexer,col_indexer] = value instead\n",
            "\n",
            "See the caveats in the documentation: https://pandas.pydata.org/pandas-docs/stable/user_guide/indexing.html#returning-a-view-versus-a-copy\n",
            "  df_param_[\"Valores\"]=df_param_[\"Valores\"].replace(\"URL\", \"containsURL\")\n",
            "<ipython-input-37-836ec9f8d57e>:12: SettingWithCopyWarning: \n",
            "A value is trying to be set on a copy of a slice from a DataFrame.\n",
            "Try using .loc[row_indexer,col_indexer] = value instead\n",
            "\n",
            "See the caveats in the documentation: https://pandas.pydata.org/pandas-docs/stable/user_guide/indexing.html#returning-a-view-versus-a-copy\n",
            "  df_param_[\"Valores\"]=df_param_[\"Valores\"].replace(\"SocialSecurityNumber\", \"containsSocialSecurityNumber\")\n"
          ]
        }
      ]
    },
    {
      "cell_type": "code",
      "source": [
        "df_param_"
      ],
      "metadata": {
        "colab": {
          "base_uri": "https://localhost:8080/",
          "height": 238
        },
        "id": "NyGtCMG7H9fq",
        "outputId": "a6b6dbc6-c893-4c35-acf2-9e2a66a84759"
      },
      "execution_count": 38,
      "outputs": [
        {
          "output_type": "execute_result",
          "data": {
            "text/plain": [
              "  Esquema          Tabla            Campo Tipo Validacion        Valores  \\\n",
              "3     dbo  Person_Person        FirstName         Formato    hasDataType   \n",
              "4     dbo  Person_Person            Email         Formato  containsEmail   \n",
              "5     dbo  Person_Person         Password         Formato   hasMinLength   \n",
              "6     dbo  Person_Person         Password         Formato   hasMaxLength   \n",
              "7     dbo        Address             Date         Formato     dd/mm/aaaa   \n",
              "8     dbo        Address  LlaveCompuestaD         Formato   hasMaxLength   \n",
              "\n",
              "  Formato  Prioridad  Dimension Unnamed: 8  \n",
              "3  STRING        NaN        NaN        NaN  \n",
              "4     NaN        NaN        NaN        NaN  \n",
              "5      10        NaN        NaN        NaN  \n",
              "6     100        NaN        NaN        NaN  \n",
              "7     NaN        NaN        NaN        NaN  \n",
              "8      15        NaN        NaN        NaN  "
            ],
            "text/html": [
              "\n",
              "  <div id=\"df-fdd90fd2-1237-4f4c-8a83-234ef7de827f\">\n",
              "    <div class=\"colab-df-container\">\n",
              "      <div>\n",
              "<style scoped>\n",
              "    .dataframe tbody tr th:only-of-type {\n",
              "        vertical-align: middle;\n",
              "    }\n",
              "\n",
              "    .dataframe tbody tr th {\n",
              "        vertical-align: top;\n",
              "    }\n",
              "\n",
              "    .dataframe thead th {\n",
              "        text-align: right;\n",
              "    }\n",
              "</style>\n",
              "<table border=\"1\" class=\"dataframe\">\n",
              "  <thead>\n",
              "    <tr style=\"text-align: right;\">\n",
              "      <th></th>\n",
              "      <th>Esquema</th>\n",
              "      <th>Tabla</th>\n",
              "      <th>Campo</th>\n",
              "      <th>Tipo Validacion</th>\n",
              "      <th>Valores</th>\n",
              "      <th>Formato</th>\n",
              "      <th>Prioridad</th>\n",
              "      <th>Dimension</th>\n",
              "      <th>Unnamed: 8</th>\n",
              "    </tr>\n",
              "  </thead>\n",
              "  <tbody>\n",
              "    <tr>\n",
              "      <th>3</th>\n",
              "      <td>dbo</td>\n",
              "      <td>Person_Person</td>\n",
              "      <td>FirstName</td>\n",
              "      <td>Formato</td>\n",
              "      <td>hasDataType</td>\n",
              "      <td>STRING</td>\n",
              "      <td>NaN</td>\n",
              "      <td>NaN</td>\n",
              "      <td>NaN</td>\n",
              "    </tr>\n",
              "    <tr>\n",
              "      <th>4</th>\n",
              "      <td>dbo</td>\n",
              "      <td>Person_Person</td>\n",
              "      <td>Email</td>\n",
              "      <td>Formato</td>\n",
              "      <td>containsEmail</td>\n",
              "      <td>NaN</td>\n",
              "      <td>NaN</td>\n",
              "      <td>NaN</td>\n",
              "      <td>NaN</td>\n",
              "    </tr>\n",
              "    <tr>\n",
              "      <th>5</th>\n",
              "      <td>dbo</td>\n",
              "      <td>Person_Person</td>\n",
              "      <td>Password</td>\n",
              "      <td>Formato</td>\n",
              "      <td>hasMinLength</td>\n",
              "      <td>10</td>\n",
              "      <td>NaN</td>\n",
              "      <td>NaN</td>\n",
              "      <td>NaN</td>\n",
              "    </tr>\n",
              "    <tr>\n",
              "      <th>6</th>\n",
              "      <td>dbo</td>\n",
              "      <td>Person_Person</td>\n",
              "      <td>Password</td>\n",
              "      <td>Formato</td>\n",
              "      <td>hasMaxLength</td>\n",
              "      <td>100</td>\n",
              "      <td>NaN</td>\n",
              "      <td>NaN</td>\n",
              "      <td>NaN</td>\n",
              "    </tr>\n",
              "    <tr>\n",
              "      <th>7</th>\n",
              "      <td>dbo</td>\n",
              "      <td>Address</td>\n",
              "      <td>Date</td>\n",
              "      <td>Formato</td>\n",
              "      <td>dd/mm/aaaa</td>\n",
              "      <td>NaN</td>\n",
              "      <td>NaN</td>\n",
              "      <td>NaN</td>\n",
              "      <td>NaN</td>\n",
              "    </tr>\n",
              "    <tr>\n",
              "      <th>8</th>\n",
              "      <td>dbo</td>\n",
              "      <td>Address</td>\n",
              "      <td>LlaveCompuestaD</td>\n",
              "      <td>Formato</td>\n",
              "      <td>hasMaxLength</td>\n",
              "      <td>15</td>\n",
              "      <td>NaN</td>\n",
              "      <td>NaN</td>\n",
              "      <td>NaN</td>\n",
              "    </tr>\n",
              "  </tbody>\n",
              "</table>\n",
              "</div>\n",
              "      <button class=\"colab-df-convert\" onclick=\"convertToInteractive('df-fdd90fd2-1237-4f4c-8a83-234ef7de827f')\"\n",
              "              title=\"Convert this dataframe to an interactive table.\"\n",
              "              style=\"display:none;\">\n",
              "        \n",
              "  <svg xmlns=\"http://www.w3.org/2000/svg\" height=\"24px\"viewBox=\"0 0 24 24\"\n",
              "       width=\"24px\">\n",
              "    <path d=\"M0 0h24v24H0V0z\" fill=\"none\"/>\n",
              "    <path d=\"M18.56 5.44l.94 2.06.94-2.06 2.06-.94-2.06-.94-.94-2.06-.94 2.06-2.06.94zm-11 1L8.5 8.5l.94-2.06 2.06-.94-2.06-.94L8.5 2.5l-.94 2.06-2.06.94zm10 10l.94 2.06.94-2.06 2.06-.94-2.06-.94-.94-2.06-.94 2.06-2.06.94z\"/><path d=\"M17.41 7.96l-1.37-1.37c-.4-.4-.92-.59-1.43-.59-.52 0-1.04.2-1.43.59L10.3 9.45l-7.72 7.72c-.78.78-.78 2.05 0 2.83L4 21.41c.39.39.9.59 1.41.59.51 0 1.02-.2 1.41-.59l7.78-7.78 2.81-2.81c.8-.78.8-2.07 0-2.86zM5.41 20L4 18.59l7.72-7.72 1.47 1.35L5.41 20z\"/>\n",
              "  </svg>\n",
              "      </button>\n",
              "      \n",
              "  <style>\n",
              "    .colab-df-container {\n",
              "      display:flex;\n",
              "      flex-wrap:wrap;\n",
              "      gap: 12px;\n",
              "    }\n",
              "\n",
              "    .colab-df-convert {\n",
              "      background-color: #E8F0FE;\n",
              "      border: none;\n",
              "      border-radius: 50%;\n",
              "      cursor: pointer;\n",
              "      display: none;\n",
              "      fill: #1967D2;\n",
              "      height: 32px;\n",
              "      padding: 0 0 0 0;\n",
              "      width: 32px;\n",
              "    }\n",
              "\n",
              "    .colab-df-convert:hover {\n",
              "      background-color: #E2EBFA;\n",
              "      box-shadow: 0px 1px 2px rgba(60, 64, 67, 0.3), 0px 1px 3px 1px rgba(60, 64, 67, 0.15);\n",
              "      fill: #174EA6;\n",
              "    }\n",
              "\n",
              "    [theme=dark] .colab-df-convert {\n",
              "      background-color: #3B4455;\n",
              "      fill: #D2E3FC;\n",
              "    }\n",
              "\n",
              "    [theme=dark] .colab-df-convert:hover {\n",
              "      background-color: #434B5C;\n",
              "      box-shadow: 0px 1px 3px 1px rgba(0, 0, 0, 0.15);\n",
              "      filter: drop-shadow(0px 1px 2px rgba(0, 0, 0, 0.3));\n",
              "      fill: #FFFFFF;\n",
              "    }\n",
              "  </style>\n",
              "\n",
              "      <script>\n",
              "        const buttonEl =\n",
              "          document.querySelector('#df-fdd90fd2-1237-4f4c-8a83-234ef7de827f button.colab-df-convert');\n",
              "        buttonEl.style.display =\n",
              "          google.colab.kernel.accessAllowed ? 'block' : 'none';\n",
              "\n",
              "        async function convertToInteractive(key) {\n",
              "          const element = document.querySelector('#df-fdd90fd2-1237-4f4c-8a83-234ef7de827f');\n",
              "          const dataTable =\n",
              "            await google.colab.kernel.invokeFunction('convertToInteractive',\n",
              "                                                     [key], {});\n",
              "          if (!dataTable) return;\n",
              "\n",
              "          const docLinkHtml = 'Like what you see? Visit the ' +\n",
              "            '<a target=\"_blank\" href=https://colab.research.google.com/notebooks/data_table.ipynb>data table notebook</a>'\n",
              "            + ' to learn more about interactive tables.';\n",
              "          element.innerHTML = '';\n",
              "          dataTable['output_type'] = 'display_data';\n",
              "          await google.colab.output.renderOutput(dataTable, element);\n",
              "          const docLink = document.createElement('div');\n",
              "          docLink.innerHTML = docLinkHtml;\n",
              "          element.appendChild(docLink);\n",
              "        }\n",
              "      </script>\n",
              "    </div>\n",
              "  </div>\n",
              "  "
            ]
          },
          "metadata": {},
          "execution_count": 38
        }
      ]
    },
    {
      "cell_type": "code",
      "source": [
        "data = {}\n",
        "for i in range(len(tablas)):\n",
        "  data[i] = pd.read_csv(tablas[i]+'.csv')"
      ],
      "metadata": {
        "id": "uD4EmFbF0-0Y"
      },
      "execution_count": 39,
      "outputs": []
    },
    {
      "cell_type": "code",
      "source": [
        "result_df = {}\n",
        "result_df_ = pd.DataFrame()\n",
        "for i in range(len(df_param_)):\n",
        "  for j in range(len(tablas)):\n",
        "\n",
        "    if df_param_.iloc[i][\"Valores\"] == 'hasMaxLength':\n",
        "      if df_param_.iloc[i][\"Esquema\"]+\"_\"+df_param_.iloc[i][\"Tabla\"] == tablas[j]:\n",
        "        print(df_param_.iloc[i][\"Formato\"])\n",
        "        check_ = Check(spark, CheckLevel.Warning, \"hasMaxLength\").hasMaxLength(df_param_.iloc[i][\"Campo\"],lambda x: x == df_param_.iloc[i][\"Formato\"])\n",
        "        result_ = VerificationSuite(spark).onData(data[j]).addCheck(check_).run()\n",
        "        result_df[i] = VerificationResult.checkResultsAsDataFrame(spark, result_, pandas=True)\n",
        "\n",
        "    elif df_param_.iloc[i][\"Valores\"] == 'hasMinLength':\n",
        "      if df_param_.iloc[i][\"Esquema\"]+\"_\"+df_param_.iloc[i][\"Tabla\"] == tablas[j]:\n",
        "        check_ = Check(spark, CheckLevel.Warning, \"hasMinLength\").hasMinLength(df_param_.iloc[i][\"Campo\"],lambda x: x == df_param_.iloc[i][\"Formato\"])\n",
        "        result_ = VerificationSuite(spark).onData(data[j]).addCheck(check_).run()\n",
        "        result_df[i] = VerificationResult.checkResultsAsDataFrame(spark, result_, pandas=True)\n",
        "\n",
        "    elif df_param_.iloc[i][\"Valores\"] == 'containsEmail':\n",
        "      if df_param_.iloc[i][\"Esquema\"]+\"_\"+df_param_.iloc[i][\"Tabla\"] == tablas[j]:\n",
        "        check_ = Check(spark, CheckLevel.Warning, \"containsEmail\").containsEmail(df_param_.iloc[i][\"Campo\"])\n",
        "        result_ = VerificationSuite(spark).onData(data[j]).addCheck(check_).run()\n",
        "        result_df[i] = VerificationResult.checkResultsAsDataFrame(spark, result_, pandas=True)\n",
        "\n",
        "    elif df_param_.iloc[i][\"Valores\"] == 'containsURL':\n",
        "      if df_param_.iloc[i][\"Esquema\"]+\"_\"+df_param_.iloc[i][\"Tabla\"] == tablas[j]:\n",
        "        check_ = Check(spark, CheckLevel.Warning, \"containsURL\").containsURL(df_param_.iloc[i][\"Campo\"])\n",
        "        result_ = VerificationSuite(spark).onData(data[j]).addCheck(check_).run()\n",
        "        result_df[i] = VerificationResult.checkResultsAsDataFrame(spark, result_, pandas=True)\n",
        "\n",
        "    elif df_param_.iloc[i][\"Valores\"] == 'hasSize':\n",
        "      if df_param_.iloc[i][\"Esquema\"]+\"_\"+df_param_.iloc[i][\"Tabla\"] == tablas[j]:\n",
        "        check_ = Check(spark, CheckLevel.Warning, \"hasSize\").hasSize(df_param_.iloc[i][\"Campo\"], lambda x: x >= df_param_.iloc[i][\"Formato\"])\n",
        "        result_ = VerificationSuite(spark).onData(data[j]).addCheck(check_).run()\n",
        "        result_df[i] = VerificationResult.checkResultsAsDataFrame(spark, result_, pandas=True)\n",
        "\n",
        "    #elif df_param_.iloc[i][\"Valores\"] == 'hasDataType':\n",
        "     # if df_param_.iloc[i][\"Esquema\"]+\"_\"+df_param_.iloc[i][\"Tabla\"] == tablas[j]:\n",
        "      #  check_ = Check(spark, CheckLevel.Warning, \"hasDataType\").hasDataType(df_param_.iloc[i][\"Campo\"], df_param_.iloc[i][\"Formato\"])\n",
        "       # result_ = VerificationSuite(spark).onData(data[j]).addCheck(check_).run()\n",
        "        #result_df[i] = VerificationResult.checkResultsAsDataFrame(spark, result_)\n",
        "\n",
        "    elif df_param_.iloc[i][\"Valores\"] == 'containsCreditCardNumber':\n",
        "      if df_param_.iloc[i][\"Esquema\"]+\"_\"+df_param_.iloc[i][\"Tabla\"] == tablas[j]:\n",
        "        check_ = Check(spark, CheckLevel.Warning, \"containsCreditCardNumber\").containsCreditCardNumber(df_param_.iloc[i][\"Campo\"])\n",
        "        result_ = VerificationSuite(spark).onData(data[j]).addCheck(check_).run()\n",
        "        result_df[i] = VerificationResult.checkResultsAsDataFrame(spark, result_, pandas=True)\n",
        "\n",
        "    elif df_param_.iloc[i][\"Valores\"] == 'containsSocialSecurityNumber':\n",
        "      if df_param_.iloc[i][\"Esquema\"]+\"_\"+df_param_.iloc[i][\"Tabla\"] == tablas[j]:\n",
        "        check_ = Check(spark, CheckLevel.Warning, \"containsSocialSecurityNumber\").containsSocialSecurityNumber(df_param_.iloc[i][\"Campo\"])\n",
        "        result_ = VerificationSuite(spark).onData(data[j]).addCheck(check_).run()\n",
        "        result_df[i] = VerificationResult.checkResultsAsDataFrame(spark, result_, pandas=True)"
      ],
      "metadata": {
        "colab": {
          "base_uri": "https://localhost:8080/"
        },
        "id": "NPa9NAsNYA8p",
        "outputId": "ac75894d-bc5c-4311-8e89-0f721f0510e3"
      },
      "execution_count": 40,
      "outputs": [
        {
          "output_type": "stream",
          "name": "stderr",
          "text": [
            "/usr/local/lib/python3.8/dist-packages/pydeequ/pandas_utils.py:26: UserWarning: WARNING: You passed in a Pandas DF, so we will be using our experimental utility to convert it to a PySpark DF.\n",
            "  warnings.warn(\n"
          ]
        },
        {
          "output_type": "stream",
          "name": "stdout",
          "text": [
            "100\n",
            "15\n"
          ]
        }
      ]
    },
    {
      "cell_type": "code",
      "source": [
        "result_df_= pd.concat(result_df)\n",
        "result_df_"
      ],
      "metadata": {
        "colab": {
          "base_uri": "https://localhost:8080/",
          "height": 308
        },
        "id": "dy45D6eU00-M",
        "outputId": "21db963a-670f-4aa1-9931-b36e97a34624"
      },
      "execution_count": 41,
      "outputs": [
        {
          "output_type": "execute_result",
          "data": {
            "text/plain": [
              "             check check_level check_status  \\\n",
              "1 0  containsEmail     Warning      Success   \n",
              "2 0   hasMinLength     Warning      Warning   \n",
              "3 0   hasMaxLength     Warning      Warning   \n",
              "5 0   hasMaxLength     Warning      Success   \n",
              "\n",
              "                                            constraint constraint_status  \\\n",
              "1 0                               containsEmail(Email)           Success   \n",
              "2 0      MinLengthConstraint(MinLength(Password,None))           Failure   \n",
              "3 0      MaxLengthConstraint(MaxLength(Password,None))           Failure   \n",
              "5 0  MaxLengthConstraint(MaxLength(LlaveCompuestaD,...           Success   \n",
              "\n",
              "                                    constraint_message  \n",
              "1 0                                                     \n",
              "2 0  Value: 8.0 does not meet the constraint requir...  \n",
              "3 0  Value: 15.0 does not meet the constraint requi...  \n",
              "5 0                                                     "
            ],
            "text/html": [
              "\n",
              "  <div id=\"df-161f309f-af6a-4fda-8ce5-486eaa430ba3\">\n",
              "    <div class=\"colab-df-container\">\n",
              "      <div>\n",
              "<style scoped>\n",
              "    .dataframe tbody tr th:only-of-type {\n",
              "        vertical-align: middle;\n",
              "    }\n",
              "\n",
              "    .dataframe tbody tr th {\n",
              "        vertical-align: top;\n",
              "    }\n",
              "\n",
              "    .dataframe thead th {\n",
              "        text-align: right;\n",
              "    }\n",
              "</style>\n",
              "<table border=\"1\" class=\"dataframe\">\n",
              "  <thead>\n",
              "    <tr style=\"text-align: right;\">\n",
              "      <th></th>\n",
              "      <th></th>\n",
              "      <th>check</th>\n",
              "      <th>check_level</th>\n",
              "      <th>check_status</th>\n",
              "      <th>constraint</th>\n",
              "      <th>constraint_status</th>\n",
              "      <th>constraint_message</th>\n",
              "    </tr>\n",
              "  </thead>\n",
              "  <tbody>\n",
              "    <tr>\n",
              "      <th>1</th>\n",
              "      <th>0</th>\n",
              "      <td>containsEmail</td>\n",
              "      <td>Warning</td>\n",
              "      <td>Success</td>\n",
              "      <td>containsEmail(Email)</td>\n",
              "      <td>Success</td>\n",
              "      <td></td>\n",
              "    </tr>\n",
              "    <tr>\n",
              "      <th>2</th>\n",
              "      <th>0</th>\n",
              "      <td>hasMinLength</td>\n",
              "      <td>Warning</td>\n",
              "      <td>Warning</td>\n",
              "      <td>MinLengthConstraint(MinLength(Password,None))</td>\n",
              "      <td>Failure</td>\n",
              "      <td>Value: 8.0 does not meet the constraint requir...</td>\n",
              "    </tr>\n",
              "    <tr>\n",
              "      <th>3</th>\n",
              "      <th>0</th>\n",
              "      <td>hasMaxLength</td>\n",
              "      <td>Warning</td>\n",
              "      <td>Warning</td>\n",
              "      <td>MaxLengthConstraint(MaxLength(Password,None))</td>\n",
              "      <td>Failure</td>\n",
              "      <td>Value: 15.0 does not meet the constraint requi...</td>\n",
              "    </tr>\n",
              "    <tr>\n",
              "      <th>5</th>\n",
              "      <th>0</th>\n",
              "      <td>hasMaxLength</td>\n",
              "      <td>Warning</td>\n",
              "      <td>Success</td>\n",
              "      <td>MaxLengthConstraint(MaxLength(LlaveCompuestaD,...</td>\n",
              "      <td>Success</td>\n",
              "      <td></td>\n",
              "    </tr>\n",
              "  </tbody>\n",
              "</table>\n",
              "</div>\n",
              "      <button class=\"colab-df-convert\" onclick=\"convertToInteractive('df-161f309f-af6a-4fda-8ce5-486eaa430ba3')\"\n",
              "              title=\"Convert this dataframe to an interactive table.\"\n",
              "              style=\"display:none;\">\n",
              "        \n",
              "  <svg xmlns=\"http://www.w3.org/2000/svg\" height=\"24px\"viewBox=\"0 0 24 24\"\n",
              "       width=\"24px\">\n",
              "    <path d=\"M0 0h24v24H0V0z\" fill=\"none\"/>\n",
              "    <path d=\"M18.56 5.44l.94 2.06.94-2.06 2.06-.94-2.06-.94-.94-2.06-.94 2.06-2.06.94zm-11 1L8.5 8.5l.94-2.06 2.06-.94-2.06-.94L8.5 2.5l-.94 2.06-2.06.94zm10 10l.94 2.06.94-2.06 2.06-.94-2.06-.94-.94-2.06-.94 2.06-2.06.94z\"/><path d=\"M17.41 7.96l-1.37-1.37c-.4-.4-.92-.59-1.43-.59-.52 0-1.04.2-1.43.59L10.3 9.45l-7.72 7.72c-.78.78-.78 2.05 0 2.83L4 21.41c.39.39.9.59 1.41.59.51 0 1.02-.2 1.41-.59l7.78-7.78 2.81-2.81c.8-.78.8-2.07 0-2.86zM5.41 20L4 18.59l7.72-7.72 1.47 1.35L5.41 20z\"/>\n",
              "  </svg>\n",
              "      </button>\n",
              "      \n",
              "  <style>\n",
              "    .colab-df-container {\n",
              "      display:flex;\n",
              "      flex-wrap:wrap;\n",
              "      gap: 12px;\n",
              "    }\n",
              "\n",
              "    .colab-df-convert {\n",
              "      background-color: #E8F0FE;\n",
              "      border: none;\n",
              "      border-radius: 50%;\n",
              "      cursor: pointer;\n",
              "      display: none;\n",
              "      fill: #1967D2;\n",
              "      height: 32px;\n",
              "      padding: 0 0 0 0;\n",
              "      width: 32px;\n",
              "    }\n",
              "\n",
              "    .colab-df-convert:hover {\n",
              "      background-color: #E2EBFA;\n",
              "      box-shadow: 0px 1px 2px rgba(60, 64, 67, 0.3), 0px 1px 3px 1px rgba(60, 64, 67, 0.15);\n",
              "      fill: #174EA6;\n",
              "    }\n",
              "\n",
              "    [theme=dark] .colab-df-convert {\n",
              "      background-color: #3B4455;\n",
              "      fill: #D2E3FC;\n",
              "    }\n",
              "\n",
              "    [theme=dark] .colab-df-convert:hover {\n",
              "      background-color: #434B5C;\n",
              "      box-shadow: 0px 1px 3px 1px rgba(0, 0, 0, 0.15);\n",
              "      filter: drop-shadow(0px 1px 2px rgba(0, 0, 0, 0.3));\n",
              "      fill: #FFFFFF;\n",
              "    }\n",
              "  </style>\n",
              "\n",
              "      <script>\n",
              "        const buttonEl =\n",
              "          document.querySelector('#df-161f309f-af6a-4fda-8ce5-486eaa430ba3 button.colab-df-convert');\n",
              "        buttonEl.style.display =\n",
              "          google.colab.kernel.accessAllowed ? 'block' : 'none';\n",
              "\n",
              "        async function convertToInteractive(key) {\n",
              "          const element = document.querySelector('#df-161f309f-af6a-4fda-8ce5-486eaa430ba3');\n",
              "          const dataTable =\n",
              "            await google.colab.kernel.invokeFunction('convertToInteractive',\n",
              "                                                     [key], {});\n",
              "          if (!dataTable) return;\n",
              "\n",
              "          const docLinkHtml = 'Like what you see? Visit the ' +\n",
              "            '<a target=\"_blank\" href=https://colab.research.google.com/notebooks/data_table.ipynb>data table notebook</a>'\n",
              "            + ' to learn more about interactive tables.';\n",
              "          element.innerHTML = '';\n",
              "          dataTable['output_type'] = 'display_data';\n",
              "          await google.colab.output.renderOutput(dataTable, element);\n",
              "          const docLink = document.createElement('div');\n",
              "          docLink.innerHTML = docLinkHtml;\n",
              "          element.appendChild(docLink);\n",
              "        }\n",
              "      </script>\n",
              "    </div>\n",
              "  </div>\n",
              "  "
            ]
          },
          "metadata": {},
          "execution_count": 41
        }
      ]
    },
    {
      "cell_type": "code",
      "source": [
        "df_address.head(10000)\n",
        "print(\"Longest length is:\\n\",df_address.LlaveCompuestaD.str.len().max())"
      ],
      "metadata": {
        "colab": {
          "base_uri": "https://localhost:8080/"
        },
        "id": "yEDL3XDAPEPs",
        "outputId": "f37f417d-e96f-4d7c-f756-d10de94be18c"
      },
      "execution_count": 42,
      "outputs": [
        {
          "output_type": "stream",
          "name": "stdout",
          "text": [
            "Longest length is:\n",
            " 15\n"
          ]
        }
      ]
    },
    {
      "cell_type": "code",
      "source": [
        "df_Person_Person.head()\n",
        "print(\"shortes length is:\\n\",df_Person_Person.Password.str.len().min())"
      ],
      "metadata": {
        "colab": {
          "base_uri": "https://localhost:8080/"
        },
        "id": "oUYMVw3CRRrc",
        "outputId": "3fb7b81e-9877-4cdc-8b07-d7bd1f2db725"
      },
      "execution_count": 43,
      "outputs": [
        {
          "output_type": "stream",
          "name": "stdout",
          "text": [
            "shortes length is:\n",
            " 8\n"
          ]
        }
      ]
    },
    {
      "cell_type": "code",
      "source": [
        "data[0].Email[0]"
      ],
      "metadata": {
        "colab": {
          "base_uri": "https://localhost:8080/",
          "height": 35
        },
        "id": "TXsyyIOv8YKm",
        "outputId": "503abe27-4ee7-445e-ebfc-69f43d36fd62"
      },
      "execution_count": 44,
      "outputs": [
        {
          "output_type": "execute_result",
          "data": {
            "text/plain": [
              "'gwyn.etzel@aol.com'"
            ],
            "application/vnd.google.colaboratory.intrinsic+json": {
              "type": "string"
            }
          },
          "metadata": {},
          "execution_count": 44
        }
      ]
    }
  ]
}
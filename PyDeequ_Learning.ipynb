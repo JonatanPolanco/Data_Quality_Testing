{
  "nbformat": 4,
  "nbformat_minor": 0,
  "metadata": {
    "colab": {
      "name": "PyDeequ_Learning.ipynb",
      "provenance": [],
      "collapsed_sections": [],
      "authorship_tag": "ABX9TyP4ajETrxLywBI4m1PaTNyT",
      "include_colab_link": true
    },
    "kernelspec": {
      "name": "python3",
      "display_name": "Python 3"
    },
    "language_info": {
      "name": "python"
    }
  },
  "cells": [
    {
      "cell_type": "markdown",
      "metadata": {
        "id": "view-in-github",
        "colab_type": "text"
      },
      "source": [
        "<a href=\"https://colab.research.google.com/github/JonatanPolanco/Data_Quality_Testing/blob/main/PyDeequ_Learning.ipynb\" target=\"_parent\"><img src=\"https://colab.research.google.com/assets/colab-badge.svg\" alt=\"Open In Colab\"/></a>"
      ]
    },
    {
      "cell_type": "markdown",
      "source": [
        "**Instalación de librerias**"
      ],
      "metadata": {
        "id": "Y9_OIavdUR_O"
      }
    },
    {
      "cell_type": "code",
      "execution_count": null,
      "metadata": {
        "colab": {
          "base_uri": "https://localhost:8080/"
        },
        "id": "j7YwC9cvORS4",
        "outputId": "a40610a1-64c4-428b-b406-4e477639bb9b"
      },
      "outputs": [
        {
          "output_type": "stream",
          "name": "stdout",
          "text": [
            "Collecting pydeequ==1.0.1\n",
            "  Downloading pydeequ-1.0.1-py3-none-any.whl (36 kB)\n",
            "Requirement already satisfied: pandas>=0.23.0 in /usr/local/lib/python3.7/dist-packages (from pydeequ==1.0.1) (1.3.5)\n",
            "Requirement already satisfied: numpy>=1.14.1 in /usr/local/lib/python3.7/dist-packages (from pydeequ==1.0.1) (1.21.5)\n",
            "Requirement already satisfied: pytz>=2017.3 in /usr/local/lib/python3.7/dist-packages (from pandas>=0.23.0->pydeequ==1.0.1) (2018.9)\n",
            "Requirement already satisfied: python-dateutil>=2.7.3 in /usr/local/lib/python3.7/dist-packages (from pandas>=0.23.0->pydeequ==1.0.1) (2.8.2)\n",
            "Requirement already satisfied: six>=1.5 in /usr/local/lib/python3.7/dist-packages (from python-dateutil>=2.7.3->pandas>=0.23.0->pydeequ==1.0.1) (1.15.0)\n",
            "Installing collected packages: pydeequ\n",
            "Successfully installed pydeequ-1.0.1\n"
          ]
        }
      ],
      "source": [
        "!pip install pydeequ==1.0.1"
      ]
    },
    {
      "cell_type": "code",
      "source": [
        " !pip install pyspark==3.0.3"
      ],
      "metadata": {
        "colab": {
          "base_uri": "https://localhost:8080/"
        },
        "id": "5SB83dU8WLyb",
        "outputId": "82d0e196-719c-48d3-bb1c-72c3b965c446"
      },
      "execution_count": null,
      "outputs": [
        {
          "output_type": "stream",
          "name": "stdout",
          "text": [
            "Collecting pyspark==3.0.3\n",
            "  Downloading pyspark-3.0.3.tar.gz (209.1 MB)\n",
            "\u001b[K     |████████████████████████████████| 209.1 MB 59 kB/s \n",
            "\u001b[?25hCollecting py4j==0.10.9\n",
            "  Downloading py4j-0.10.9-py2.py3-none-any.whl (198 kB)\n",
            "\u001b[K     |████████████████████████████████| 198 kB 50.5 MB/s \n",
            "\u001b[?25hBuilding wheels for collected packages: pyspark\n",
            "  Building wheel for pyspark (setup.py) ... \u001b[?25l\u001b[?25hdone\n",
            "  Created wheel for pyspark: filename=pyspark-3.0.3-py2.py3-none-any.whl size=209435971 sha256=fdf0809c3464db4ab36423a407997a4d99f65ce0ed173e63e90febe78b647449\n",
            "  Stored in directory: /root/.cache/pip/wheels/7e/6d/0a/6b0bf301bc056d9af03194b732b9f49ad2fceb205aab2984fd\n",
            "Successfully built pyspark\n",
            "Installing collected packages: py4j, pyspark\n",
            "Successfully installed py4j-0.10.9 pyspark-3.0.3\n"
          ]
        }
      ]
    },
    {
      "cell_type": "markdown",
      "source": [
        "**Configuración de sesión de PySpark**"
      ],
      "metadata": {
        "id": "xB3lrHLFUXPe"
      }
    },
    {
      "cell_type": "code",
      "source": [
        "from pyspark.sql import SparkSession, Row\n",
        "import pydeequ\n",
        "import pandas as pd\n",
        "\n",
        "spark = (SparkSession\n",
        "    .builder\n",
        "    .config(\"spark.jars.packages\", pydeequ.deequ_maven_coord)\n",
        "    .config(\"spark.jars.excludes\", pydeequ.f2j_maven_coord)\n",
        "    .getOrCreate())\n",
        "\n",
        "df = spark.sparkContext.parallelize([\n",
        "            Row(a=\"foo\", b=1, c=5),\n",
        "            Row(a=\"bar\", b=2, c=6),\n",
        "            Row(a=\"baz\", b=3, c=None)]).toDF()"
      ],
      "metadata": {
        "id": "Ipg7PHAoO_9l",
        "colab": {
          "base_uri": "https://localhost:8080/"
        },
        "outputId": "ec2509a7-6bbd-460f-9164-1275b96bd9e0"
      },
      "execution_count": null,
      "outputs": [
        {
          "output_type": "stream",
          "name": "stderr",
          "text": [
            "Please set env variable SPARK_VERSION\n"
          ]
        }
      ]
    },
    {
      "cell_type": "markdown",
      "source": [
        "**Visualizar data**"
      ],
      "metadata": {
        "id": "2I2kBex8nEpL"
      }
    },
    {
      "cell_type": "code",
      "source": [
        "df.printSchema()"
      ],
      "metadata": {
        "colab": {
          "base_uri": "https://localhost:8080/"
        },
        "id": "lrW2pps8q2wQ",
        "outputId": "3493dca4-eb01-4a6e-d85e-2c85231b2d68"
      },
      "execution_count": null,
      "outputs": [
        {
          "output_type": "stream",
          "name": "stdout",
          "text": [
            "root\n",
            " |-- a: string (nullable = true)\n",
            " |-- b: long (nullable = true)\n",
            " |-- c: long (nullable = true)\n",
            "\n"
          ]
        }
      ]
    },
    {
      "cell_type": "markdown",
      "source": [
        "**Analizadores AWS Deequ**"
      ],
      "metadata": {
        "id": "coS_uAN2UhyD"
      }
    },
    {
      "cell_type": "code",
      "source": [
        "from pydeequ.analyzers import *\n",
        "\n",
        "analysisResult = AnalysisRunner(spark) \\\n",
        "                    .onData(df) \\\n",
        "                    .addAnalyzer(Size()) \\\n",
        "                    .addAnalyzer(Completeness(\"b\")) \\\n",
        "                    .addAnalyzer(Completeness(\"c\")) \\\n",
        "                    .run()\n",
        "\n",
        "analysisResult_df = AnalyzerContext.successMetricsAsDataFrame(spark, analysisResult)\n",
        "analysisResult_df.show()"
      ],
      "metadata": {
        "colab": {
          "base_uri": "https://localhost:8080/"
        },
        "id": "bitniS_vT8te",
        "outputId": "9ffa8072-974c-4ead-99c4-d5bd89af5043"
      },
      "execution_count": null,
      "outputs": [
        {
          "output_type": "stream",
          "name": "stdout",
          "text": [
            "+-------+--------+------------+------------------+\n",
            "| entity|instance|        name|             value|\n",
            "+-------+--------+------------+------------------+\n",
            "|Dataset|       *|        Size|               3.0|\n",
            "| Column|       b|Completeness|               1.0|\n",
            "| Column|       c|Completeness|0.6666666666666666|\n",
            "+-------+--------+------------+------------------+\n",
            "\n"
          ]
        }
      ]
    },
    {
      "cell_type": "markdown",
      "source": [
        "**Perfilamiento**"
      ],
      "metadata": {
        "id": "T9XpEJjXUr7l"
      }
    },
    {
      "cell_type": "code",
      "source": [
        "from pydeequ.profiles import *\n",
        "\n",
        "result = ColumnProfilerRunner(spark) \\\n",
        "    .onData(df) \\\n",
        "    .run()\n",
        "\n",
        "for col, profile in result.profiles.items():\n",
        "    print(profile)"
      ],
      "metadata": {
        "colab": {
          "base_uri": "https://localhost:8080/"
        },
        "id": "4CUlZ07WUqG6",
        "outputId": "cabba8b5-6df0-42c0-a3f9-737df0ad2137"
      },
      "execution_count": null,
      "outputs": [
        {
          "output_type": "stream",
          "name": "stdout",
          "text": [
            "StandardProfiles for column: a: {\n",
            "    \"completeness\": 1.0,\n",
            "    \"approximateNumDistinctValues\": 3,\n",
            "    \"dataType\": \"String\",\n",
            "    \"isDataTypeInferred\": false,\n",
            "    \"typeCounts\": {\n",
            "        \"Boolean\": 0,\n",
            "        \"Fractional\": 0,\n",
            "        \"Integral\": 0,\n",
            "        \"Unknown\": 0,\n",
            "        \"String\": 3\n",
            "    },\n",
            "    \"histogram\": [\n",
            "        [\n",
            "            \"baz\",\n",
            "            1,\n",
            "            0.3333333333333333\n",
            "        ],\n",
            "        [\n",
            "            \"foo\",\n",
            "            1,\n",
            "            0.3333333333333333\n",
            "        ],\n",
            "        [\n",
            "            \"bar\",\n",
            "            1,\n",
            "            0.3333333333333333\n",
            "        ]\n",
            "    ]\n",
            "}\n",
            "NumericProfiles for column: b: {\n",
            "    \"completeness\": 1.0,\n",
            "    \"approximateNumDistinctValues\": 3,\n",
            "    \"dataType\": \"Integral\",\n",
            "    \"isDataTypeInferred\": false,\n",
            "    \"typeCounts\": {},\n",
            "    \"histogram\": [\n",
            "        [\n",
            "            \"1\",\n",
            "            1,\n",
            "            0.3333333333333333\n",
            "        ],\n",
            "        [\n",
            "            \"2\",\n",
            "            1,\n",
            "            0.3333333333333333\n",
            "        ],\n",
            "        [\n",
            "            \"3\",\n",
            "            1,\n",
            "            0.3333333333333333\n",
            "        ]\n",
            "    ],\n",
            "    \"kll\": \"None\",\n",
            "    \"mean\": 2.0,\n",
            "    \"maximum\": 3.0,\n",
            "    \"minimum\": 1.0,\n",
            "    \"sum\": 6.0,\n",
            "    \"stdDev\": 0.816496580927726,\n",
            "    \"approxPercentiles\": []\n",
            "}\n",
            "NumericProfiles for column: c: {\n",
            "    \"completeness\": 0.6666666666666666,\n",
            "    \"approximateNumDistinctValues\": 2,\n",
            "    \"dataType\": \"Integral\",\n",
            "    \"isDataTypeInferred\": false,\n",
            "    \"typeCounts\": {},\n",
            "    \"histogram\": [\n",
            "        [\n",
            "            \"5\",\n",
            "            1,\n",
            "            0.3333333333333333\n",
            "        ],\n",
            "        [\n",
            "            \"NullValue\",\n",
            "            1,\n",
            "            0.3333333333333333\n",
            "        ],\n",
            "        [\n",
            "            \"6\",\n",
            "            1,\n",
            "            0.3333333333333333\n",
            "        ]\n",
            "    ],\n",
            "    \"kll\": \"None\",\n",
            "    \"mean\": 5.5,\n",
            "    \"maximum\": 6.0,\n",
            "    \"minimum\": 5.0,\n",
            "    \"sum\": 11.0,\n",
            "    \"stdDev\": 0.5,\n",
            "    \"approxPercentiles\": []\n",
            "}\n"
          ]
        }
      ]
    },
    {
      "cell_type": "markdown",
      "source": [
        "**Sugerencias de restricciones**"
      ],
      "metadata": {
        "id": "XBixbd3Xl2NI"
      }
    },
    {
      "cell_type": "code",
      "source": [
        "from pydeequ.suggestions import *\n",
        "\n",
        "suggestionResult = ConstraintSuggestionRunner(spark) \\\n",
        "             .onData(df) \\\n",
        "             .addConstraintRule(DEFAULT()) \\\n",
        "             .run()\n",
        "\n",
        "# Constraint Suggestions in JSON format\n",
        "print(suggestionResult)"
      ],
      "metadata": {
        "colab": {
          "base_uri": "https://localhost:8080/"
        },
        "id": "N_ZOLkW2l1OR",
        "outputId": "d50d40ba-a79c-406a-adad-86029698434e"
      },
      "execution_count": null,
      "outputs": [
        {
          "output_type": "stream",
          "name": "stdout",
          "text": [
            "{'constraint_suggestions': [{'constraint_name': 'CompletenessConstraint(Completeness(b,None))', 'column_name': 'b', 'current_value': 'Completeness: 1.0', 'description': \"'b' is not null\", 'suggesting_rule': 'CompleteIfCompleteRule()', 'rule_description': 'If a column is complete in the sample, we suggest a NOT NULL constraint', 'code_for_constraint': '.isComplete(\"b\")'}, {'constraint_name': \"ComplianceConstraint(Compliance('b' has no negative values,b >= 0,None))\", 'column_name': 'b', 'current_value': 'Minimum: 1.0', 'description': \"'b' has no negative values\", 'suggesting_rule': 'NonNegativeNumbersRule()', 'rule_description': 'If we see only non-negative numbers in a column, we suggest a corresponding constraint', 'code_for_constraint': '.isNonNegative(\"b\")'}, {'constraint_name': 'UniquenessConstraint(Uniqueness(List(b),None))', 'column_name': 'b', 'current_value': 'ApproxDistinctness: 1.0', 'description': \"'b' is unique\", 'suggesting_rule': 'UniqueIfApproximatelyUniqueRule()', 'rule_description': 'If the ratio of approximate num distinct values in a column is close to the number of records (within the error of the HLL sketch), we suggest a UNIQUE constraint', 'code_for_constraint': '.isUnique(\"b\")'}, {'constraint_name': 'CompletenessConstraint(Completeness(a,None))', 'column_name': 'a', 'current_value': 'Completeness: 1.0', 'description': \"'a' is not null\", 'suggesting_rule': 'CompleteIfCompleteRule()', 'rule_description': 'If a column is complete in the sample, we suggest a NOT NULL constraint', 'code_for_constraint': '.isComplete(\"a\")'}, {'constraint_name': 'UniquenessConstraint(Uniqueness(List(a),None))', 'column_name': 'a', 'current_value': 'ApproxDistinctness: 1.0', 'description': \"'a' is unique\", 'suggesting_rule': 'UniqueIfApproximatelyUniqueRule()', 'rule_description': 'If the ratio of approximate num distinct values in a column is close to the number of records (within the error of the HLL sketch), we suggest a UNIQUE constraint', 'code_for_constraint': '.isUnique(\"a\")'}, {'constraint_name': \"ComplianceConstraint(Compliance('c' has no negative values,c >= 0,None))\", 'column_name': 'c', 'current_value': 'Minimum: 5.0', 'description': \"'c' has no negative values\", 'suggesting_rule': 'NonNegativeNumbersRule()', 'rule_description': 'If we see only non-negative numbers in a column, we suggest a corresponding constraint', 'code_for_constraint': '.isNonNegative(\"c\")'}, {'constraint_name': 'CompletenessConstraint(Completeness(c,None))', 'column_name': 'c', 'current_value': 'Completeness: 0.6666666666666666', 'description': \"'c' has less than 87% missing values\", 'suggesting_rule': 'RetainCompletenessRule()', 'rule_description': 'If a column is incomplete in the sample, we model its completeness as a binomial variable, estimate a confidence interval and use this to define a lower bound for the completeness', 'code_for_constraint': '.hasCompleteness(\"c\", lambda x: x >= 0.13, \"It should be above 0.13!\")'}]}\n"
          ]
        }
      ]
    },
    {
      "cell_type": "markdown",
      "source": [
        "**Verificación de restricciones**"
      ],
      "metadata": {
        "id": "K_E3LLhyrhtY"
      }
    },
    {
      "cell_type": "code",
      "source": [
        "from pydeequ.checks import *\n",
        "from pydeequ.verification import *\n",
        "\n",
        "check = Check(spark, CheckLevel.Warning, \"Review Check\")\n",
        "\n",
        "checkResult = VerificationSuite(spark) \\\n",
        "    .onData(df) \\\n",
        "    .addCheck(\n",
        "        check.hasSize(lambda x: x >= 3) \\\n",
        "        .hasMin(\"b\", lambda x: x == 0) \\\n",
        "        .isComplete(\"c\")  \\\n",
        "        .isUnique(\"a\")  \\\n",
        "        .isContainedIn(\"a\", [\"foo\", \"bar\", \"baz\"]) \\\n",
        "        .isNonNegative(\"b\")) \\\n",
        "    .run()\n",
        "\n",
        "checkResult_df = VerificationResult.checkResultsAsDataFrame(spark, checkResult)\n",
        "checkResult_df.show()"
      ],
      "metadata": {
        "colab": {
          "base_uri": "https://localhost:8080/"
        },
        "id": "UiE48cC5re-2",
        "outputId": "580a72ea-8d2c-4e92-f017-5c6bfd978350"
      },
      "execution_count": null,
      "outputs": [
        {
          "output_type": "stream",
          "name": "stdout",
          "text": [
            "Python Callback server started!\n",
            "+------------+-----------+------------+--------------------+-----------------+--------------------+\n",
            "|       check|check_level|check_status|          constraint|constraint_status|  constraint_message|\n",
            "+------------+-----------+------------+--------------------+-----------------+--------------------+\n",
            "|Review Check|    Warning|     Warning|SizeConstraint(Si...|          Success|                    |\n",
            "|Review Check|    Warning|     Warning|MinimumConstraint...|          Failure|Value: 1.0 does n...|\n",
            "|Review Check|    Warning|     Warning|CompletenessConst...|          Failure|Value: 0.66666666...|\n",
            "|Review Check|    Warning|     Warning|UniquenessConstra...|          Success|                    |\n",
            "|Review Check|    Warning|     Warning|ComplianceConstra...|          Success|                    |\n",
            "|Review Check|    Warning|     Warning|ComplianceConstra...|          Success|                    |\n",
            "+------------+-----------+------------+--------------------+-----------------+--------------------+\n",
            "\n"
          ]
        }
      ]
    }
  ]
}
{
  "cells": [
    {
      "cell_type": "markdown",
      "metadata": {
        "id": "view-in-github",
        "colab_type": "text"
      },
      "source": [
        "<a href=\"https://colab.research.google.com/github/JonatanPolanco/Data_Quality_Testing/blob/main/PyDeequ_Learning.ipynb\" target=\"_parent\"><img src=\"https://colab.research.google.com/assets/colab-badge.svg\" alt=\"Open In Colab\"/></a>"
      ]
    },
    {
      "cell_type": "markdown",
      "metadata": {
        "id": "Y9_OIavdUR_O"
      },
      "source": [
        "**Instalación de librerias**"
      ]
    },
    {
      "cell_type": "code",
      "execution_count": null,
      "metadata": {
        "colab": {
          "base_uri": "https://localhost:8080/"
        },
        "id": "j7YwC9cvORS4",
        "outputId": "5926c0ab-a640-4e61-ed8c-35bbfc38fde8"
      },
      "outputs": [
        {
          "name": "stdout",
          "output_type": "stream",
          "text": [
            "Collecting pydeequ==1.0.1\n",
            "  Downloading pydeequ-1.0.1-py3-none-any.whl (36 kB)\n",
            "Requirement already satisfied: numpy>=1.14.1 in /usr/local/lib/python3.7/dist-packages (from pydeequ==1.0.1) (1.21.5)\n",
            "Requirement already satisfied: pandas>=0.23.0 in /usr/local/lib/python3.7/dist-packages (from pydeequ==1.0.1) (1.3.5)\n",
            "Requirement already satisfied: pytz>=2017.3 in /usr/local/lib/python3.7/dist-packages (from pandas>=0.23.0->pydeequ==1.0.1) (2018.9)\n",
            "Requirement already satisfied: python-dateutil>=2.7.3 in /usr/local/lib/python3.7/dist-packages (from pandas>=0.23.0->pydeequ==1.0.1) (2.8.2)\n",
            "Requirement already satisfied: six>=1.5 in /usr/local/lib/python3.7/dist-packages (from python-dateutil>=2.7.3->pandas>=0.23.0->pydeequ==1.0.1) (1.15.0)\n",
            "Installing collected packages: pydeequ\n",
            "Successfully installed pydeequ-1.0.1\n"
          ]
        }
      ],
      "source": [
        "!pip install pydeequ==1.0.1"
      ]
    },
    {
      "cell_type": "code",
      "execution_count": null,
      "metadata": {
        "colab": {
          "base_uri": "https://localhost:8080/"
        },
        "id": "5SB83dU8WLyb",
        "outputId": "8c90b15a-00ce-402d-a23e-3728ce1fff3d"
      },
      "outputs": [
        {
          "name": "stdout",
          "output_type": "stream",
          "text": [
            "Collecting pyspark==3.0.3\n",
            "  Downloading pyspark-3.0.3.tar.gz (209.1 MB)\n",
            "\u001b[K     |████████████████████████████████| 209.1 MB 74 kB/s \n",
            "\u001b[?25hCollecting py4j==0.10.9\n",
            "  Downloading py4j-0.10.9-py2.py3-none-any.whl (198 kB)\n",
            "\u001b[K     |████████████████████████████████| 198 kB 85.6 MB/s \n",
            "\u001b[?25hBuilding wheels for collected packages: pyspark\n",
            "  Building wheel for pyspark (setup.py) ... \u001b[?25l\u001b[?25hdone\n",
            "  Created wheel for pyspark: filename=pyspark-3.0.3-py2.py3-none-any.whl size=209435971 sha256=a7f35f2047039dbd82ee7c6cd1416330a19f805cfd621bd01edb3b34879b52f1\n",
            "  Stored in directory: /root/.cache/pip/wheels/7e/6d/0a/6b0bf301bc056d9af03194b732b9f49ad2fceb205aab2984fd\n",
            "Successfully built pyspark\n",
            "Installing collected packages: py4j, pyspark\n",
            "Successfully installed py4j-0.10.9 pyspark-3.0.3\n"
          ]
        }
      ],
      "source": [
        " !pip install pyspark==3.0.3"
      ]
    },
    {
      "cell_type": "markdown",
      "metadata": {
        "id": "xB3lrHLFUXPe"
      },
      "source": [
        "**Configuración de sesión de PySpark**"
      ]
    },
    {
      "cell_type": "code",
      "execution_count": 2,
      "metadata": {
        "id": "Ipg7PHAoO_9l"
      },
      "outputs": [],
      "source": [
        "from pyspark.sql import SparkSession, Row\n",
        "import pydeequ\n",
        "import pandas as pd\n",
        "\n",
        "spark = (SparkSession\n",
        "    .builder\n",
        "    .config(\"spark.jars.packages\", pydeequ.deequ_maven_coord)\n",
        "    .config(\"spark.jars.excludes\", pydeequ.f2j_maven_coord)\n",
        "    .getOrCreate())"
      ]
    },
    {
      "cell_type": "markdown",
      "metadata": {
        "id": "rkulVNUtKGkq"
      },
      "source": [
        "**Cargando data**"
      ]
    },
    {
      "cell_type": "code",
      "execution_count": 3,
      "metadata": {
        "id": "Px08RQDlKF0e"
      },
      "outputs": [],
      "source": [
        "df = spark.sparkContext.parallelize([\n",
        "            Row(a=\"https://www.vldb.org/pvldb/vol11/p1781-schelter.pdf\", b=1, c=\"jobici8705@gmail\"),\n",
        "            Row(a=\"https://aws.amazon.com/blogs/big-data/test-data-quality-at-scale-with-deequ/\", b=2, c=\"jonatan@outlook.es\"),\n",
        "            Row(a=\"https://pydeequ.readthedocs.io/_/downloads/en/latest/pdf/\", b=3, c='jobici8705@')]).toDF()"
      ]
    },
    {
      "cell_type": "markdown",
      "metadata": {
        "id": "2I2kBex8nEpL"
      },
      "source": [
        "**Visualizar data**"
      ]
    },
    {
      "cell_type": "code",
      "execution_count": 29,
      "metadata": {
        "colab": {
          "base_uri": "https://localhost:8080/",
          "height": 143
        },
        "id": "lrW2pps8q2wQ",
        "outputId": "ff9933a4-7eec-4b8c-d5b5-ea3c12b1e4d3"
      },
      "outputs": [
        {
          "output_type": "execute_result",
          "data": {
            "text/html": [
              "\n",
              "  <div id=\"df-28e9aa39-3379-4c15-88fd-efa09182bd74\">\n",
              "    <div class=\"colab-df-container\">\n",
              "      <div>\n",
              "<style scoped>\n",
              "    .dataframe tbody tr th:only-of-type {\n",
              "        vertical-align: middle;\n",
              "    }\n",
              "\n",
              "    .dataframe tbody tr th {\n",
              "        vertical-align: top;\n",
              "    }\n",
              "\n",
              "    .dataframe thead th {\n",
              "        text-align: right;\n",
              "    }\n",
              "</style>\n",
              "<table border=\"1\" class=\"dataframe\">\n",
              "  <thead>\n",
              "    <tr style=\"text-align: right;\">\n",
              "      <th></th>\n",
              "      <th>a</th>\n",
              "      <th>b</th>\n",
              "      <th>c</th>\n",
              "    </tr>\n",
              "  </thead>\n",
              "  <tbody>\n",
              "    <tr>\n",
              "      <th>0</th>\n",
              "      <td>https://www.vldb.org/pvldb/vol11/p1781-schelte...</td>\n",
              "      <td>1</td>\n",
              "      <td>jobici8705@gmail</td>\n",
              "    </tr>\n",
              "    <tr>\n",
              "      <th>1</th>\n",
              "      <td>https://aws.amazon.com/blogs/big-data/test-dat...</td>\n",
              "      <td>2</td>\n",
              "      <td>jonatan@outlook.es</td>\n",
              "    </tr>\n",
              "    <tr>\n",
              "      <th>2</th>\n",
              "      <td>https://pydeequ.readthedocs.io/_/downloads/en/...</td>\n",
              "      <td>3</td>\n",
              "      <td>jobici8705@</td>\n",
              "    </tr>\n",
              "  </tbody>\n",
              "</table>\n",
              "</div>\n",
              "      <button class=\"colab-df-convert\" onclick=\"convertToInteractive('df-28e9aa39-3379-4c15-88fd-efa09182bd74')\"\n",
              "              title=\"Convert this dataframe to an interactive table.\"\n",
              "              style=\"display:none;\">\n",
              "        \n",
              "  <svg xmlns=\"http://www.w3.org/2000/svg\" height=\"24px\"viewBox=\"0 0 24 24\"\n",
              "       width=\"24px\">\n",
              "    <path d=\"M0 0h24v24H0V0z\" fill=\"none\"/>\n",
              "    <path d=\"M18.56 5.44l.94 2.06.94-2.06 2.06-.94-2.06-.94-.94-2.06-.94 2.06-2.06.94zm-11 1L8.5 8.5l.94-2.06 2.06-.94-2.06-.94L8.5 2.5l-.94 2.06-2.06.94zm10 10l.94 2.06.94-2.06 2.06-.94-2.06-.94-.94-2.06-.94 2.06-2.06.94z\"/><path d=\"M17.41 7.96l-1.37-1.37c-.4-.4-.92-.59-1.43-.59-.52 0-1.04.2-1.43.59L10.3 9.45l-7.72 7.72c-.78.78-.78 2.05 0 2.83L4 21.41c.39.39.9.59 1.41.59.51 0 1.02-.2 1.41-.59l7.78-7.78 2.81-2.81c.8-.78.8-2.07 0-2.86zM5.41 20L4 18.59l7.72-7.72 1.47 1.35L5.41 20z\"/>\n",
              "  </svg>\n",
              "      </button>\n",
              "      \n",
              "  <style>\n",
              "    .colab-df-container {\n",
              "      display:flex;\n",
              "      flex-wrap:wrap;\n",
              "      gap: 12px;\n",
              "    }\n",
              "\n",
              "    .colab-df-convert {\n",
              "      background-color: #E8F0FE;\n",
              "      border: none;\n",
              "      border-radius: 50%;\n",
              "      cursor: pointer;\n",
              "      display: none;\n",
              "      fill: #1967D2;\n",
              "      height: 32px;\n",
              "      padding: 0 0 0 0;\n",
              "      width: 32px;\n",
              "    }\n",
              "\n",
              "    .colab-df-convert:hover {\n",
              "      background-color: #E2EBFA;\n",
              "      box-shadow: 0px 1px 2px rgba(60, 64, 67, 0.3), 0px 1px 3px 1px rgba(60, 64, 67, 0.15);\n",
              "      fill: #174EA6;\n",
              "    }\n",
              "\n",
              "    [theme=dark] .colab-df-convert {\n",
              "      background-color: #3B4455;\n",
              "      fill: #D2E3FC;\n",
              "    }\n",
              "\n",
              "    [theme=dark] .colab-df-convert:hover {\n",
              "      background-color: #434B5C;\n",
              "      box-shadow: 0px 1px 3px 1px rgba(0, 0, 0, 0.15);\n",
              "      filter: drop-shadow(0px 1px 2px rgba(0, 0, 0, 0.3));\n",
              "      fill: #FFFFFF;\n",
              "    }\n",
              "  </style>\n",
              "\n",
              "      <script>\n",
              "        const buttonEl =\n",
              "          document.querySelector('#df-28e9aa39-3379-4c15-88fd-efa09182bd74 button.colab-df-convert');\n",
              "        buttonEl.style.display =\n",
              "          google.colab.kernel.accessAllowed ? 'block' : 'none';\n",
              "\n",
              "        async function convertToInteractive(key) {\n",
              "          const element = document.querySelector('#df-28e9aa39-3379-4c15-88fd-efa09182bd74');\n",
              "          const dataTable =\n",
              "            await google.colab.kernel.invokeFunction('convertToInteractive',\n",
              "                                                     [key], {});\n",
              "          if (!dataTable) return;\n",
              "\n",
              "          const docLinkHtml = 'Like what you see? Visit the ' +\n",
              "            '<a target=\"_blank\" href=https://colab.research.google.com/notebooks/data_table.ipynb>data table notebook</a>'\n",
              "            + ' to learn more about interactive tables.';\n",
              "          element.innerHTML = '';\n",
              "          dataTable['output_type'] = 'display_data';\n",
              "          await google.colab.output.renderOutput(dataTable, element);\n",
              "          const docLink = document.createElement('div');\n",
              "          docLink.innerHTML = docLinkHtml;\n",
              "          element.appendChild(docLink);\n",
              "        }\n",
              "      </script>\n",
              "    </div>\n",
              "  </div>\n",
              "  "
            ],
            "text/plain": [
              "                                                   a  b                   c\n",
              "0  https://www.vldb.org/pvldb/vol11/p1781-schelte...  1    jobici8705@gmail\n",
              "1  https://aws.amazon.com/blogs/big-data/test-dat...  2  jonatan@outlook.es\n",
              "2  https://pydeequ.readthedocs.io/_/downloads/en/...  3         jobici8705@"
            ]
          },
          "metadata": {},
          "execution_count": 29
        }
      ],
      "source": [
        "df__ = df.toPandas()\n",
        "df__.head()"
      ]
    },
    {
      "cell_type": "markdown",
      "metadata": {
        "id": "coS_uAN2UhyD"
      },
      "source": [
        "**Analizadores AWS Deequ**"
      ]
    },
    {
      "cell_type": "code",
      "execution_count": null,
      "metadata": {
        "colab": {
          "base_uri": "https://localhost:8080/"
        },
        "id": "bitniS_vT8te",
        "outputId": "5d38a8ea-64a5-4d7a-b9fa-68416dd18a37"
      },
      "outputs": [
        {
          "name": "stderr",
          "output_type": "stream",
          "text": [
            "/usr/local/lib/python3.7/dist-packages/pydeequ/pandas_utils.py:27: UserWarning: WARNING: You passed in a Pandas DF, so we will be using our experimental utility to convert it to a PySpark DF.\n",
            "  \"WARNING: You passed in a Pandas DF, so we will be using our experimental utility to \"\n"
          ]
        },
        {
          "name": "stdout",
          "output_type": "stream",
          "text": [
            "+-------+--------+------------+------------------+\n",
            "| entity|instance|        name|             value|\n",
            "+-------+--------+------------+------------------+\n",
            "|Dataset|       *|        Size|               3.0|\n",
            "| Column|       b|Completeness|               1.0|\n",
            "| Column|       c|Completeness|0.6666666666666666|\n",
            "+-------+--------+------------+------------------+\n",
            "\n"
          ]
        }
      ],
      "source": [
        "from pydeequ.analyzers import *\n",
        "\n",
        "analysisResult = AnalysisRunner(spark) \\\n",
        "                    .onData(df) \\\n",
        "                    .addAnalyzer(Size()) \\\n",
        "                    .addAnalyzer(Completeness(\"b\")) \\\n",
        "                    .addAnalyzer(Completeness(\"c\")) \\\n",
        "                    .run()\n",
        "\n",
        "analysisResult_df = AnalyzerContext.successMetricsAsDataFrame(spark, analysisResult)\n",
        "analysisResult_df.show()"
      ]
    },
    {
      "cell_type": "markdown",
      "metadata": {
        "id": "T9XpEJjXUr7l"
      },
      "source": [
        "**Perfilamiento**"
      ]
    },
    {
      "cell_type": "code",
      "execution_count": null,
      "metadata": {
        "colab": {
          "base_uri": "https://localhost:8080/"
        },
        "id": "4CUlZ07WUqG6",
        "outputId": "aca41b15-c868-458f-a769-63a926c4bf43"
      },
      "outputs": [
        {
          "name": "stdout",
          "output_type": "stream",
          "text": [
            "StandardProfiles for column: a: {\n",
            "    \"completeness\": 1.0,\n",
            "    \"approximateNumDistinctValues\": 3,\n",
            "    \"dataType\": \"String\",\n",
            "    \"isDataTypeInferred\": false,\n",
            "    \"typeCounts\": {\n",
            "        \"Boolean\": 0,\n",
            "        \"Fractional\": 0,\n",
            "        \"Integral\": 0,\n",
            "        \"Unknown\": 0,\n",
            "        \"String\": 3\n",
            "    },\n",
            "    \"histogram\": [\n",
            "        [\n",
            "            \"https://aws.amazon.com/blogs/big-data/test-data-quality-at-scale-with-deequ/\",\n",
            "            1,\n",
            "            0.3333333333333333\n",
            "        ],\n",
            "        [\n",
            "            \"https://www.vldb.org/pvldb/vol11/p1781-schelter.pdf\",\n",
            "            1,\n",
            "            0.3333333333333333\n",
            "        ],\n",
            "        [\n",
            "            \"baz\",\n",
            "            1,\n",
            "            0.3333333333333333\n",
            "        ]\n",
            "    ]\n",
            "}\n",
            "NumericProfiles for column: b: {\n",
            "    \"completeness\": 1.0,\n",
            "    \"approximateNumDistinctValues\": 3,\n",
            "    \"dataType\": \"Integral\",\n",
            "    \"isDataTypeInferred\": false,\n",
            "    \"typeCounts\": {},\n",
            "    \"histogram\": [\n",
            "        [\n",
            "            \"1\",\n",
            "            1,\n",
            "            0.3333333333333333\n",
            "        ],\n",
            "        [\n",
            "            \"2\",\n",
            "            1,\n",
            "            0.3333333333333333\n",
            "        ],\n",
            "        [\n",
            "            \"3\",\n",
            "            1,\n",
            "            0.3333333333333333\n",
            "        ]\n",
            "    ],\n",
            "    \"kll\": \"None\",\n",
            "    \"mean\": 2.0,\n",
            "    \"maximum\": 3.0,\n",
            "    \"minimum\": 1.0,\n",
            "    \"sum\": 6.0,\n",
            "    \"stdDev\": 0.816496580927726,\n",
            "    \"approxPercentiles\": []\n",
            "}\n",
            "StandardProfiles for column: c: {\n",
            "    \"completeness\": 0.6666666666666666,\n",
            "    \"approximateNumDistinctValues\": 2,\n",
            "    \"dataType\": \"String\",\n",
            "    \"isDataTypeInferred\": false,\n",
            "    \"typeCounts\": {\n",
            "        \"Boolean\": 0,\n",
            "        \"Fractional\": 0,\n",
            "        \"Integral\": 0,\n",
            "        \"Unknown\": 1,\n",
            "        \"String\": 2\n",
            "    },\n",
            "    \"histogram\": [\n",
            "        [\n",
            "            \"jobici8705@gmail.com\",\n",
            "            1,\n",
            "            0.3333333333333333\n",
            "        ],\n",
            "        [\n",
            "            \"jonatan@outlook.es\",\n",
            "            1,\n",
            "            0.3333333333333333\n",
            "        ],\n",
            "        [\n",
            "            \"NullValue\",\n",
            "            1,\n",
            "            0.3333333333333333\n",
            "        ]\n",
            "    ]\n",
            "}\n"
          ]
        }
      ],
      "source": [
        "from pydeequ.profiles import *\n",
        "\n",
        "result = ColumnProfilerRunner(spark) \\\n",
        "    .onData(df) \\\n",
        "    .run()\n",
        "\n",
        "for col, profile in result.profiles.items():\n",
        "    print(profile)"
      ]
    },
    {
      "cell_type": "markdown",
      "metadata": {
        "id": "XBixbd3Xl2NI"
      },
      "source": [
        "**Sugerencias de restricciones**"
      ]
    },
    {
      "cell_type": "code",
      "execution_count": 8,
      "metadata": {
        "colab": {
          "base_uri": "https://localhost:8080/",
          "height": 415
        },
        "id": "N_ZOLkW2l1OR",
        "outputId": "c6c67934-c486-4172-b2e9-a64194772b0b"
      },
      "outputs": [
        {
          "output_type": "error",
          "ename": "TypeError",
          "evalue": "ignored",
          "traceback": [
            "\u001b[0;31m---------------------------------------------------------------------------\u001b[0m",
            "\u001b[0;31mTypeError\u001b[0m                                 Traceback (most recent call last)",
            "\u001b[0;32m<ipython-input-8-bb75e7fcfb40>\u001b[0m in \u001b[0;36m<module>\u001b[0;34m()\u001b[0m\n\u001b[1;32m     12\u001b[0m     \u001b[0msuggestion\u001b[0m\u001b[0;34m.\u001b[0m\u001b[0mappend\u001b[0m\u001b[0;34m(\u001b[0m\u001b[0mvalue\u001b[0m\u001b[0;34m[\u001b[0m\u001b[0mi\u001b[0m\u001b[0;34m]\u001b[0m\u001b[0;34m)\u001b[0m\u001b[0;34m\u001b[0m\u001b[0;34m\u001b[0m\u001b[0m\n\u001b[1;32m     13\u001b[0m \u001b[0;34m\u001b[0m\u001b[0m\n\u001b[0;32m---> 14\u001b[0;31m \u001b[0msuggestion\u001b[0m \u001b[0;34m=\u001b[0m \u001b[0mpd\u001b[0m\u001b[0;34m.\u001b[0m\u001b[0mjson_normalize\u001b[0m\u001b[0;34m(\u001b[0m\u001b[0msuggestion\u001b[0m\u001b[0;34m,\u001b[0m \u001b[0mrecord_path\u001b[0m\u001b[0;34m=\u001b[0m \u001b[0;34m'column_name'\u001b[0m\u001b[0;34m)\u001b[0m\u001b[0;34m\u001b[0m\u001b[0;34m\u001b[0m\u001b[0m\n\u001b[0m\u001b[1;32m     15\u001b[0m \u001b[0msuggestion_Df\u001b[0m \u001b[0;34m=\u001b[0m \u001b[0mpd\u001b[0m\u001b[0;34m.\u001b[0m\u001b[0mDataFrame\u001b[0m\u001b[0;34m(\u001b[0m\u001b[0msuggestion\u001b[0m\u001b[0;34m)\u001b[0m\u001b[0;34m\u001b[0m\u001b[0;34m\u001b[0m\u001b[0m\n\u001b[1;32m     16\u001b[0m \u001b[0msuggestion_Df\u001b[0m\u001b[0;34m\u001b[0m\u001b[0;34m\u001b[0m\u001b[0m\n",
            "\u001b[0;32m/usr/local/lib/python3.7/dist-packages/pandas/io/json/_normalize.py\u001b[0m in \u001b[0;36m_json_normalize\u001b[0;34m(data, record_path, meta, meta_prefix, record_prefix, errors, sep, max_level)\u001b[0m\n\u001b[1;32m    502\u001b[0m                 \u001b[0mrecords\u001b[0m\u001b[0;34m.\u001b[0m\u001b[0mextend\u001b[0m\u001b[0;34m(\u001b[0m\u001b[0mrecs\u001b[0m\u001b[0;34m)\u001b[0m\u001b[0;34m\u001b[0m\u001b[0;34m\u001b[0m\u001b[0m\n\u001b[1;32m    503\u001b[0m \u001b[0;34m\u001b[0m\u001b[0m\n\u001b[0;32m--> 504\u001b[0;31m     \u001b[0m_recursive_extract\u001b[0m\u001b[0;34m(\u001b[0m\u001b[0mdata\u001b[0m\u001b[0;34m,\u001b[0m \u001b[0mrecord_path\u001b[0m\u001b[0;34m,\u001b[0m \u001b[0;34m{\u001b[0m\u001b[0;34m}\u001b[0m\u001b[0;34m,\u001b[0m \u001b[0mlevel\u001b[0m\u001b[0;34m=\u001b[0m\u001b[0;36m0\u001b[0m\u001b[0;34m)\u001b[0m\u001b[0;34m\u001b[0m\u001b[0;34m\u001b[0m\u001b[0m\n\u001b[0m\u001b[1;32m    505\u001b[0m \u001b[0;34m\u001b[0m\u001b[0m\n\u001b[1;32m    506\u001b[0m     \u001b[0mresult\u001b[0m \u001b[0;34m=\u001b[0m \u001b[0mDataFrame\u001b[0m\u001b[0;34m(\u001b[0m\u001b[0mrecords\u001b[0m\u001b[0;34m)\u001b[0m\u001b[0;34m\u001b[0m\u001b[0;34m\u001b[0m\u001b[0m\n",
            "\u001b[0;32m/usr/local/lib/python3.7/dist-packages/pandas/io/json/_normalize.py\u001b[0m in \u001b[0;36m_recursive_extract\u001b[0;34m(data, path, seen_meta, level)\u001b[0m\n\u001b[1;32m    475\u001b[0m         \u001b[0;32melse\u001b[0m\u001b[0;34m:\u001b[0m\u001b[0;34m\u001b[0m\u001b[0;34m\u001b[0m\u001b[0m\n\u001b[1;32m    476\u001b[0m             \u001b[0;32mfor\u001b[0m \u001b[0mobj\u001b[0m \u001b[0;32min\u001b[0m \u001b[0mdata\u001b[0m\u001b[0;34m:\u001b[0m\u001b[0;34m\u001b[0m\u001b[0;34m\u001b[0m\u001b[0m\n\u001b[0;32m--> 477\u001b[0;31m                 \u001b[0mrecs\u001b[0m \u001b[0;34m=\u001b[0m \u001b[0m_pull_records\u001b[0m\u001b[0;34m(\u001b[0m\u001b[0mobj\u001b[0m\u001b[0;34m,\u001b[0m \u001b[0mpath\u001b[0m\u001b[0;34m[\u001b[0m\u001b[0;36m0\u001b[0m\u001b[0;34m]\u001b[0m\u001b[0;34m)\u001b[0m\u001b[0;34m\u001b[0m\u001b[0;34m\u001b[0m\u001b[0m\n\u001b[0m\u001b[1;32m    478\u001b[0m                 recs = [\n\u001b[1;32m    479\u001b[0m                     \u001b[0mnested_to_record\u001b[0m\u001b[0;34m(\u001b[0m\u001b[0mr\u001b[0m\u001b[0;34m,\u001b[0m \u001b[0msep\u001b[0m\u001b[0;34m=\u001b[0m\u001b[0msep\u001b[0m\u001b[0;34m,\u001b[0m \u001b[0mmax_level\u001b[0m\u001b[0;34m=\u001b[0m\u001b[0mmax_level\u001b[0m\u001b[0;34m)\u001b[0m\u001b[0;34m\u001b[0m\u001b[0;34m\u001b[0m\u001b[0m\n",
            "\u001b[0;32m/usr/local/lib/python3.7/dist-packages/pandas/io/json/_normalize.py\u001b[0m in \u001b[0;36m_pull_records\u001b[0;34m(js, spec)\u001b[0m\n\u001b[1;32m    406\u001b[0m             \u001b[0;32melse\u001b[0m\u001b[0;34m:\u001b[0m\u001b[0;34m\u001b[0m\u001b[0;34m\u001b[0m\u001b[0m\n\u001b[1;32m    407\u001b[0m                 raise TypeError(\n\u001b[0;32m--> 408\u001b[0;31m                     \u001b[0;34mf\"{js} has non list value {result} for path {spec}. \"\u001b[0m\u001b[0;34m\u001b[0m\u001b[0;34m\u001b[0m\u001b[0m\n\u001b[0m\u001b[1;32m    409\u001b[0m                     \u001b[0;34m\"Must be list or null.\"\u001b[0m\u001b[0;34m\u001b[0m\u001b[0;34m\u001b[0m\u001b[0m\n\u001b[1;32m    410\u001b[0m                 )\n",
            "\u001b[0;31mTypeError\u001b[0m: {'constraint_name': 'CompletenessConstraint(Completeness(b,None))', 'column_name': 'b', 'current_value': 'Completeness: 1.0', 'description': \"'b' is not null\", 'suggesting_rule': 'CompleteIfCompleteRule()', 'rule_description': 'If a column is complete in the sample, we suggest a NOT NULL constraint', 'code_for_constraint': '.isComplete(\"b\")'} has non list value b for path column_name. Must be list or null."
          ]
        }
      ],
      "source": [
        "from pydeequ.suggestions import *\n",
        "import json\n",
        "\n",
        "suggestionResult = ConstraintSuggestionRunner(spark) \\\n",
        "             .onData(df) \\\n",
        "             .addConstraintRule(DEFAULT()) \\\n",
        "             .run()\n",
        "\n",
        "# Constraint Suggestions in JSON format \n",
        "#print(json.dumps(suggestionResult[\"constraint_suggestions\"], indent=2))   # column_name, description, rule_description, code_for_constraint\n",
        "suggestion = []\n",
        "\n",
        "for key, value in suggestionResult.items():\n",
        "  for i in range(len(value)):\n",
        "    suggestion.append(value[i])\n",
        "\n",
        "suggestion = pd.json_normalize(suggestion, record_path= 'column_name')\n",
        "suggestion_Df = pd.DataFrame(suggestion)\n",
        "suggestion_Df"
      ]
    },
    {
      "cell_type": "markdown",
      "metadata": {
        "id": "K_E3LLhyrhtY"
      },
      "source": [
        "**Verificación de restricciones**"
      ]
    },
    {
      "cell_type": "code",
      "execution_count": 32,
      "metadata": {
        "colab": {
          "base_uri": "https://localhost:8080/",
          "height": 505
        },
        "id": "UiE48cC5re-2",
        "outputId": "41dcef27-4e11-4886-af6e-726b24d470f4"
      },
      "outputs": [
        {
          "output_type": "stream",
          "name": "stdout",
          "text": [
            "Verification Run Status: Warning\n"
          ]
        },
        {
          "output_type": "execute_result",
          "data": {
            "text/html": [
              "\n",
              "  <div id=\"df-c2e217c8-80ba-46b5-8746-694f23affd4b\">\n",
              "    <div class=\"colab-df-container\">\n",
              "      <div>\n",
              "<style scoped>\n",
              "    .dataframe tbody tr th:only-of-type {\n",
              "        vertical-align: middle;\n",
              "    }\n",
              "\n",
              "    .dataframe tbody tr th {\n",
              "        vertical-align: top;\n",
              "    }\n",
              "\n",
              "    .dataframe thead th {\n",
              "        text-align: right;\n",
              "    }\n",
              "</style>\n",
              "<table border=\"1\" class=\"dataframe\">\n",
              "  <thead>\n",
              "    <tr style=\"text-align: right;\">\n",
              "      <th></th>\n",
              "      <th>check</th>\n",
              "      <th>check_level</th>\n",
              "      <th>check_status</th>\n",
              "      <th>constraint</th>\n",
              "      <th>constraint_status</th>\n",
              "      <th>constraint_message</th>\n",
              "    </tr>\n",
              "  </thead>\n",
              "  <tbody>\n",
              "    <tr>\n",
              "      <th>0</th>\n",
              "      <td>Review Check</td>\n",
              "      <td>Warning</td>\n",
              "      <td>Warning</td>\n",
              "      <td>SizeConstraint(Size(None))</td>\n",
              "      <td>Success</td>\n",
              "      <td></td>\n",
              "    </tr>\n",
              "    <tr>\n",
              "      <th>1</th>\n",
              "      <td>Review Check</td>\n",
              "      <td>Warning</td>\n",
              "      <td>Warning</td>\n",
              "      <td>MinimumConstraint(Minimum(b,None))</td>\n",
              "      <td>Failure</td>\n",
              "      <td>Value: 1.0 does not meet the constraint requir...</td>\n",
              "    </tr>\n",
              "    <tr>\n",
              "      <th>2</th>\n",
              "      <td>Review Check</td>\n",
              "      <td>Warning</td>\n",
              "      <td>Warning</td>\n",
              "      <td>AnalysisBasedConstraint(DataType(b,None),&lt;func...</td>\n",
              "      <td>Success</td>\n",
              "      <td></td>\n",
              "    </tr>\n",
              "    <tr>\n",
              "      <th>3</th>\n",
              "      <td>Review Check</td>\n",
              "      <td>Warning</td>\n",
              "      <td>Warning</td>\n",
              "      <td>CompletenessConstraint(Completeness(c,None))</td>\n",
              "      <td>Success</td>\n",
              "      <td></td>\n",
              "    </tr>\n",
              "    <tr>\n",
              "      <th>4</th>\n",
              "      <td>Review Check</td>\n",
              "      <td>Warning</td>\n",
              "      <td>Warning</td>\n",
              "      <td>CompletenessConstraint(Completeness(b,None))</td>\n",
              "      <td>Success</td>\n",
              "      <td></td>\n",
              "    </tr>\n",
              "    <tr>\n",
              "      <th>5</th>\n",
              "      <td>Review Check</td>\n",
              "      <td>Warning</td>\n",
              "      <td>Warning</td>\n",
              "      <td>UniquenessConstraint(Uniqueness(List(a),None))</td>\n",
              "      <td>Success</td>\n",
              "      <td></td>\n",
              "    </tr>\n",
              "    <tr>\n",
              "      <th>6</th>\n",
              "      <td>Review Check</td>\n",
              "      <td>Warning</td>\n",
              "      <td>Warning</td>\n",
              "      <td>ComplianceConstraint(Compliance(a contained in...</td>\n",
              "      <td>Failure</td>\n",
              "      <td>Value: 0.0 does not meet the constraint requir...</td>\n",
              "    </tr>\n",
              "    <tr>\n",
              "      <th>7</th>\n",
              "      <td>Review Check</td>\n",
              "      <td>Warning</td>\n",
              "      <td>Warning</td>\n",
              "      <td>ComplianceConstraint(Compliance(b is non-negat...</td>\n",
              "      <td>Success</td>\n",
              "      <td></td>\n",
              "    </tr>\n",
              "    <tr>\n",
              "      <th>8</th>\n",
              "      <td>Review Check</td>\n",
              "      <td>Warning</td>\n",
              "      <td>Warning</td>\n",
              "      <td>containsEmail(c)</td>\n",
              "      <td>Failure</td>\n",
              "      <td>Value: 0.3333333333333333 does not meet the co...</td>\n",
              "    </tr>\n",
              "    <tr>\n",
              "      <th>9</th>\n",
              "      <td>Review Check</td>\n",
              "      <td>Warning</td>\n",
              "      <td>Warning</td>\n",
              "      <td>containsURL(a)</td>\n",
              "      <td>Success</td>\n",
              "      <td></td>\n",
              "    </tr>\n",
              "  </tbody>\n",
              "</table>\n",
              "</div>\n",
              "      <button class=\"colab-df-convert\" onclick=\"convertToInteractive('df-c2e217c8-80ba-46b5-8746-694f23affd4b')\"\n",
              "              title=\"Convert this dataframe to an interactive table.\"\n",
              "              style=\"display:none;\">\n",
              "        \n",
              "  <svg xmlns=\"http://www.w3.org/2000/svg\" height=\"24px\"viewBox=\"0 0 24 24\"\n",
              "       width=\"24px\">\n",
              "    <path d=\"M0 0h24v24H0V0z\" fill=\"none\"/>\n",
              "    <path d=\"M18.56 5.44l.94 2.06.94-2.06 2.06-.94-2.06-.94-.94-2.06-.94 2.06-2.06.94zm-11 1L8.5 8.5l.94-2.06 2.06-.94-2.06-.94L8.5 2.5l-.94 2.06-2.06.94zm10 10l.94 2.06.94-2.06 2.06-.94-2.06-.94-.94-2.06-.94 2.06-2.06.94z\"/><path d=\"M17.41 7.96l-1.37-1.37c-.4-.4-.92-.59-1.43-.59-.52 0-1.04.2-1.43.59L10.3 9.45l-7.72 7.72c-.78.78-.78 2.05 0 2.83L4 21.41c.39.39.9.59 1.41.59.51 0 1.02-.2 1.41-.59l7.78-7.78 2.81-2.81c.8-.78.8-2.07 0-2.86zM5.41 20L4 18.59l7.72-7.72 1.47 1.35L5.41 20z\"/>\n",
              "  </svg>\n",
              "      </button>\n",
              "      \n",
              "  <style>\n",
              "    .colab-df-container {\n",
              "      display:flex;\n",
              "      flex-wrap:wrap;\n",
              "      gap: 12px;\n",
              "    }\n",
              "\n",
              "    .colab-df-convert {\n",
              "      background-color: #E8F0FE;\n",
              "      border: none;\n",
              "      border-radius: 50%;\n",
              "      cursor: pointer;\n",
              "      display: none;\n",
              "      fill: #1967D2;\n",
              "      height: 32px;\n",
              "      padding: 0 0 0 0;\n",
              "      width: 32px;\n",
              "    }\n",
              "\n",
              "    .colab-df-convert:hover {\n",
              "      background-color: #E2EBFA;\n",
              "      box-shadow: 0px 1px 2px rgba(60, 64, 67, 0.3), 0px 1px 3px 1px rgba(60, 64, 67, 0.15);\n",
              "      fill: #174EA6;\n",
              "    }\n",
              "\n",
              "    [theme=dark] .colab-df-convert {\n",
              "      background-color: #3B4455;\n",
              "      fill: #D2E3FC;\n",
              "    }\n",
              "\n",
              "    [theme=dark] .colab-df-convert:hover {\n",
              "      background-color: #434B5C;\n",
              "      box-shadow: 0px 1px 3px 1px rgba(0, 0, 0, 0.15);\n",
              "      filter: drop-shadow(0px 1px 2px rgba(0, 0, 0, 0.3));\n",
              "      fill: #FFFFFF;\n",
              "    }\n",
              "  </style>\n",
              "\n",
              "      <script>\n",
              "        const buttonEl =\n",
              "          document.querySelector('#df-c2e217c8-80ba-46b5-8746-694f23affd4b button.colab-df-convert');\n",
              "        buttonEl.style.display =\n",
              "          google.colab.kernel.accessAllowed ? 'block' : 'none';\n",
              "\n",
              "        async function convertToInteractive(key) {\n",
              "          const element = document.querySelector('#df-c2e217c8-80ba-46b5-8746-694f23affd4b');\n",
              "          const dataTable =\n",
              "            await google.colab.kernel.invokeFunction('convertToInteractive',\n",
              "                                                     [key], {});\n",
              "          if (!dataTable) return;\n",
              "\n",
              "          const docLinkHtml = 'Like what you see? Visit the ' +\n",
              "            '<a target=\"_blank\" href=https://colab.research.google.com/notebooks/data_table.ipynb>data table notebook</a>'\n",
              "            + ' to learn more about interactive tables.';\n",
              "          element.innerHTML = '';\n",
              "          dataTable['output_type'] = 'display_data';\n",
              "          await google.colab.output.renderOutput(dataTable, element);\n",
              "          const docLink = document.createElement('div');\n",
              "          docLink.innerHTML = docLinkHtml;\n",
              "          element.appendChild(docLink);\n",
              "        }\n",
              "      </script>\n",
              "    </div>\n",
              "  </div>\n",
              "  "
            ],
            "text/plain": [
              "          check  ...                                 constraint_message\n",
              "0  Review Check  ...                                                   \n",
              "1  Review Check  ...  Value: 1.0 does not meet the constraint requir...\n",
              "2  Review Check  ...                                                   \n",
              "3  Review Check  ...                                                   \n",
              "4  Review Check  ...                                                   \n",
              "5  Review Check  ...                                                   \n",
              "6  Review Check  ...  Value: 0.0 does not meet the constraint requir...\n",
              "7  Review Check  ...                                                   \n",
              "8  Review Check  ...  Value: 0.3333333333333333 does not meet the co...\n",
              "9  Review Check  ...                                                   \n",
              "\n",
              "[10 rows x 6 columns]"
            ]
          },
          "metadata": {},
          "execution_count": 32
        }
      ],
      "source": [
        "from pyspark.sql.types import IntegerType\n",
        "from pydeequ.checks import *\n",
        "from pydeequ.verification import *\n",
        "\n",
        "check = Check(spark, CheckLevel.Warning, \"Review Check\")\n",
        "\n",
        "checkResult = VerificationSuite(spark) \\\n",
        "    .onData(df) \\\n",
        "    .addCheck(\n",
        "        check.hasSize(lambda x: x >= 3) \\\n",
        "        .hasMin(\"b\", lambda x: x == 0) \\\n",
        "        .hasDataType(\"b\",ConstrainableDataTypes.Integral) \\\n",
        "        .isComplete(\"c\")  \\\n",
        "        .isComplete(\"b\")  \\\n",
        "        .isUnique(\"a\")  \\\n",
        "        .isContainedIn(\"a\", [\"foo\", \"bar\", \"baz\"]) \\\n",
        "        .isNonNegative(\"b\") \\\n",
        "        .containsEmail(\"c\") \\\n",
        "        .containsURL(\"a\")) \\\n",
        "    .run()\n",
        "\n",
        "print(f\"Verification Run Status: {checkResult.status}\")\n",
        "checkResult_df = VerificationResult.checkResultsAsDataFrame(spark, checkResult, pandas=True)\n",
        "checkResult_df"
      ]
    },
    {
      "cell_type": "markdown",
      "metadata": {
        "id": "EKxZW_sSOuEw"
      },
      "source": [
        "**Cargando nueva data (5M de registros)**"
      ]
    },
    {
      "cell_type": "code",
      "execution_count": null,
      "metadata": {
        "id": "RWlaP2FHKSYU"
      },
      "outputs": [],
      "source": [
        "df_ = spark.read.csv('Hr5m.csv', inferSchema=True, header=True)"
      ]
    }
  ],
  "metadata": {
    "colab": {
      "collapsed_sections": [],
      "name": "PyDeequ_Learning.ipynb",
      "provenance": [],
      "authorship_tag": "ABX9TyN9R9XPhDsXo/F3VDEY7aJ6",
      "include_colab_link": true
    },
    "kernelspec": {
      "display_name": "Python 3",
      "name": "python3"
    },
    "language_info": {
      "name": "python"
    }
  },
  "nbformat": 4,
  "nbformat_minor": 0
}